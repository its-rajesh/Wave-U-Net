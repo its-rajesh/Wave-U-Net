{
 "cells": [
  {
   "cell_type": "markdown",
   "id": "be25968a-6679-44e0-8005-be980b41ee75",
   "metadata": {},
   "source": [
    "# Data Sorting. Extracting sources >= 4 from saraga unsorted."
   ]
  },
  {
   "cell_type": "code",
   "execution_count": 1,
   "id": "8c8095c4-adfa-4f87-8906-7f9c56d46421",
   "metadata": {},
   "outputs": [],
   "source": [
    "import soundfile as sf\n",
    "import librosa as lb\n",
    "import numpy as np\n",
    "from matplotlib import pyplot as plt\n",
    "import os\n",
    "import pandas as pd\n",
    "import re\n",
    "import cmath"
   ]
  },
  {
   "cell_type": "code",
   "execution_count": 2,
   "id": "d31cac04-d5c6-4462-91ec-f9758c3d780d",
   "metadata": {},
   "outputs": [],
   "source": [
    "import shutil"
   ]
  },
  {
   "cell_type": "code",
   "execution_count": 3,
   "id": "8c757907-9d49-4b3b-9331-33c40d6bf266",
   "metadata": {},
   "outputs": [],
   "source": [
    "path = '/users/rajeshr/Desktop/Saraga Needs to be Sorted/'\n",
    "main2GBfolders = [path+i+'/' for i in os.listdir(path) if i!= '.DS_Store']"
   ]
  },
  {
   "cell_type": "code",
   "execution_count": 4,
   "id": "8c5a575d-76b7-4f02-99d4-0d3be8d1f56f",
   "metadata": {},
   "outputs": [
    {
     "name": "stdout",
     "output_type": "stream",
     "text": [
      "194\n"
     ]
    }
   ],
   "source": [
    "mainfolders = []\n",
    "for folders in main2GBfolders:\n",
    "    t = [folders+i+'/' for i in os.listdir(folders) if i!= '.DS_Store']\n",
    "    mainfolders.append(t)\n",
    "    \n",
    "length_mainfolders = 0\n",
    "for i in range(len(mainfolders)):\n",
    "    length_mainfolders += len(mainfolders[i])\n",
    "    \n",
    "print(length_mainfolders)"
   ]
  },
  {
   "cell_type": "code",
   "execution_count": 5,
   "id": "28932aeb-ca24-4c48-be7d-9ec54861372d",
   "metadata": {},
   "outputs": [],
   "source": [
    "deepfolders = []\n",
    "for mainfolder in mainfolders:\n",
    "    for midfolders in mainfolder:\n",
    "        t = [midfolders+i+'/' for i in os.listdir(midfolders) if i!= '.DS_Store']\n",
    "        deepfolders.append(t)"
   ]
  },
  {
   "cell_type": "code",
   "execution_count": 6,
   "id": "803e1ef9-03aa-4f62-9ed5-a9f20eeaa2a2",
   "metadata": {},
   "outputs": [],
   "source": [
    "dest_path = '/users/rajeshr/Desktop/Saraga Sorted/'\n",
    "mp3files = []\n",
    "for deepfolder in deepfolders:\n",
    "    for folder in deepfolder:\n",
    "        splt = folder.split('/')\n",
    "        c=0\n",
    "        for file in os.listdir(folder):\n",
    "            if file.endswith(\".mp3\"):\n",
    "                c+=1\n",
    "        if c>= 5:\n",
    "            shutil.copytree(folder, dest_path+splt[-2], dirs_exist_ok=True)"
   ]
  },
  {
   "cell_type": "code",
   "execution_count": null,
   "id": "3240655d-a1c8-452f-b746-0f357067af1c",
   "metadata": {},
   "outputs": [],
   "source": []
  },
  {
   "cell_type": "code",
   "execution_count": null,
   "id": "4253a891-fd8e-4e22-9c17-553d1d47d4cb",
   "metadata": {},
   "outputs": [],
   "source": []
  }
 ],
 "metadata": {
  "kernelspec": {
   "display_name": "Python 3 (ipykernel)",
   "language": "python",
   "name": "python3"
  },
  "language_info": {
   "codemirror_mode": {
    "name": "ipython",
    "version": 3
   },
   "file_extension": ".py",
   "mimetype": "text/x-python",
   "name": "python",
   "nbconvert_exporter": "python",
   "pygments_lexer": "ipython3",
   "version": "3.10.6"
  }
 },
 "nbformat": 4,
 "nbformat_minor": 5
}
