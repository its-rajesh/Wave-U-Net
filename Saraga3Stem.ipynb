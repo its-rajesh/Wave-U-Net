{
 "cells": [
  {
   "cell_type": "markdown",
   "id": "2794095c",
   "metadata": {},
   "source": [
    "# Saraga Dataset (Three Stem Conversion)"
   ]
  },
  {
   "cell_type": "code",
   "execution_count": 1,
   "id": "9d5d54da",
   "metadata": {},
   "outputs": [],
   "source": [
    "import librosa as lb\n",
    "import soundfile as sf\n",
    "import numpy as np\n",
    "import pandas as pd\n",
    "import os\n",
    "import shutil\n",
    "from tqdm import tqdm"
   ]
  },
  {
   "cell_type": "code",
   "execution_count": 2,
   "id": "6518ca1d",
   "metadata": {},
   "outputs": [
    {
     "name": "stdout",
     "output_type": "stream",
     "text": [
      "Top folders:  26\n"
     ]
    }
   ],
   "source": [
    "path = \"/home/rajesh/Desktop/Datasets/saraga1.5_carnatic/\"\n",
    "top = sorted([i for i in os.listdir(path) if os.path.isdir(path+i)])\n",
    "print(\"Top folders: \", len(top))\n",
    "top_path = sorted([path+i for i in os.listdir(path) if os.path.isdir(path+i)])"
   ]
  },
  {
   "cell_type": "code",
   "execution_count": 3,
   "id": "5ba9cb52",
   "metadata": {},
   "outputs": [],
   "source": [
    "mid_folders = []\n",
    "len_sub_folders = []\n",
    "\n",
    "mid_folders_path = []\n",
    "\n",
    "for i in top_path:\n",
    "    sub_folders = sorted([j for j in os.listdir(i) if os.path.isdir(os.path.join(i, j))])\n",
    "    len_sub_folders.append(len(sub_folders))\n",
    "    mid_folders.append(sub_folders)\n",
    "    sub_folders_path = sorted([os.path.join(i, j) for j in os.listdir(i) if os.path.isdir(os.path.join(i, j))])\n",
    "    mid_folders_path.append(sub_folders_path)"
   ]
  },
  {
   "cell_type": "code",
   "execution_count": 4,
   "id": "59b4f07e",
   "metadata": {},
   "outputs": [
    {
     "name": "stdout",
     "output_type": "stream",
     "text": [
      "Total folders:  249\n"
     ]
    }
   ],
   "source": [
    "print('Total folders: ', sum(len_sub_folders))"
   ]
  },
  {
   "cell_type": "code",
   "execution_count": null,
   "id": "5b60e568",
   "metadata": {},
   "outputs": [],
   "source": []
  },
  {
   "cell_type": "code",
   "execution_count": 5,
   "id": "55587d4a",
   "metadata": {},
   "outputs": [],
   "source": [
    "files = []\n",
    "files_path = []\n",
    "for k in range(len(top)):\n",
    "    for i in mid_folders_path[k]:\n",
    "        file = sorted([j for j in os.listdir(i) if j[-3:] == 'mp3'])\n",
    "        files.append(file)\n",
    "        \n",
    "        file_p = sorted([os.path.join(i, j) for j in os.listdir(i) if j[-3:] == 'mp3'])\n",
    "        files_path.append(file_p)"
   ]
  },
  {
   "cell_type": "code",
   "execution_count": 6,
   "id": "2b96a4e8",
   "metadata": {},
   "outputs": [
    {
     "data": {
      "text/plain": [
       "249"
      ]
     },
     "execution_count": 6,
     "metadata": {},
     "output_type": "execute_result"
    }
   ],
   "source": [
    "len(files)"
   ]
  },
  {
   "cell_type": "code",
   "execution_count": 7,
   "id": "a2cb296c",
   "metadata": {},
   "outputs": [],
   "source": [
    "dest_folder = \"/home/rajesh/Desktop/Datasets/Saraga3stem/\"\n",
    "os.makedirs(dest_folder, exist_ok=True)"
   ]
  },
  {
   "cell_type": "code",
   "execution_count": null,
   "id": "df7659ba",
   "metadata": {},
   "outputs": [],
   "source": []
  },
  {
   "cell_type": "code",
   "execution_count": 8,
   "id": "8c7bf874",
   "metadata": {},
   "outputs": [
    {
     "name": "stderr",
     "output_type": "stream",
     "text": [
      "100%|█████████████████████████████████████████| 249/249 [07:36<00:00,  1.83s/it]"
     ]
    },
    {
     "name": "stdout",
     "output_type": "stream",
     "text": [
      "169\n"
     ]
    },
    {
     "name": "stderr",
     "output_type": "stream",
     "text": [
      "\n"
     ]
    }
   ],
   "source": [
    "c = 1\n",
    "for i in tqdm(range(len(files))):\n",
    "    if len(files[i]) >= 3:\n",
    "        folder_name = files[i][0].split('.')[0].replace(\" \", \"\")\n",
    "        os.makedirs(dest_folder+folder_name, exist_ok=True)\n",
    "        for j in range(len(files[i])):\n",
    "            name = files[i][j].split('.')\n",
    "            if name[1] == 'mp3':\n",
    "                shutil.copy2(files_path[i][j], os.path.join(dest_folder+folder_name, 'mixture.mp3'))\n",
    "            else:\n",
    "                deep_name = name[1].split('-')\n",
    "                if deep_name[1] == \"ghatam\":\n",
    "                    shutil.copy2(files_path[i][j], os.path.join(dest_folder+folder_name, 'ghatam.mp3'))\n",
    "                if deep_name[1] == \"violin\":\n",
    "                    shutil.copy2(files_path[i][j], os.path.join(dest_folder+folder_name, 'violin.mp3'))\n",
    "                if deep_name[1] == \"vocal\":\n",
    "                    try:\n",
    "                        if deep_name[2] == 's':\n",
    "                            shutil.copy2(files_path[i][j], os.path.join(dest_folder+folder_name, 'vocals.mp3'))\n",
    "                        else:\n",
    "                            shutil.copy2(files_path[i][j], os.path.join(dest_folder+folder_name, 'svocals.mp3'))\n",
    "                    except:\n",
    "                        shutil.copy2(files_path[i][j], os.path.join(dest_folder+folder_name, 'vocals.mp3'))\n",
    "                if deep_name[1] == \"mridangam\":\n",
    "                    if deep_name[2] == \"right\":\n",
    "                        shutil.copy2(files_path[i][j], os.path.join(dest_folder+folder_name, 'right.mp3'))\n",
    "                    else:\n",
    "                        shutil.copy2(files_path[i][j], os.path.join(dest_folder+folder_name, 'left.mp3'))\n",
    "        \n",
    "        #print(c, \"folders done\")            \n",
    "        c+=1\n",
    "            \n",
    "print(c)"
   ]
  },
  {
   "cell_type": "code",
   "execution_count": 9,
   "id": "a7721023",
   "metadata": {},
   "outputs": [
    {
     "name": "stderr",
     "output_type": "stream",
     "text": [
      "100%|█████████████████████████████████████████| 249/249 [01:26<00:00,  2.88it/s]"
     ]
    },
    {
     "name": "stdout",
     "output_type": "stream",
     "text": [
      "169\n",
      "24 Secondary vocal copied!\n"
     ]
    },
    {
     "name": "stderr",
     "output_type": "stream",
     "text": [
      "\n"
     ]
    }
   ],
   "source": [
    "c = 1\n",
    "s_v = 0\n",
    "for i in tqdm(range(len(files))):\n",
    "    if len(files[i]) >= 3:\n",
    "        folder_name = files[i][0].split('.')[0].replace(\" \", \"\")\n",
    "        os.makedirs(dest_folder+folder_name, exist_ok=True)\n",
    "        for j in range(len(files[i])):\n",
    "            name = files[i][j].split('.')\n",
    "            if name[1] == 'mp3':\n",
    "                pass\n",
    "            else:\n",
    "                deep_name = name[1].split('-')\n",
    "                if deep_name[1] == \"vocal\":\n",
    "                    if len(deep_name) == 3:\n",
    "                        shutil.copy2(files_path[i][j], os.path.join(dest_folder+folder_name, 'svocals.mp3'))\n",
    "                        s_v += 1\n",
    "                    else:\n",
    "                        shutil.copy2(files_path[i][j], os.path.join(dest_folder+folder_name, 'vocals.mp3'))\n",
    "        \n",
    "        #print(c, \"folders done\")            \n",
    "        c+=1\n",
    "            \n",
    "print(c)\n",
    "print(s_v, 'Secondary vocal copied!')"
   ]
  },
  {
   "cell_type": "markdown",
   "id": "dd39f241",
   "metadata": {},
   "source": [
    "### Converting copied .mp3 to .wav"
   ]
  },
  {
   "cell_type": "code",
   "execution_count": 10,
   "id": "73593efb",
   "metadata": {},
   "outputs": [],
   "source": [
    "from pydub import AudioSegment"
   ]
  },
  {
   "cell_type": "code",
   "execution_count": null,
   "id": "fd5cb8c1",
   "metadata": {},
   "outputs": [],
   "source": []
  },
  {
   "cell_type": "code",
   "execution_count": 11,
   "id": "fdf931af",
   "metadata": {},
   "outputs": [
    {
     "name": "stderr",
     "output_type": "stream",
     "text": [
      "100%|█████████████████████████████████████████| 161/161 [23:17<00:00,  8.68s/it]\n"
     ]
    }
   ],
   "source": [
    "dest_folder = \"/home/rajesh/Desktop/Datasets/Saraga3stem/\"\n",
    "files = [dest_folder+i for i in os.listdir(dest_folder)]\n",
    "c = 1\n",
    "for i in tqdm(files):\n",
    "    file = os.listdir(i)\n",
    "    for j in file:\n",
    "        #print(i+'/'+j)\n",
    "        sound = AudioSegment.from_mp3(i+'/'+j)\n",
    "        sound.export(i+'/'+j[:-4]+'.wav', format=\"wav\")\n",
    "    #print('{}/161 folders done'.format(c))\n",
    "    c+=1"
   ]
  },
  {
   "cell_type": "markdown",
   "id": "e4da0c9f",
   "metadata": {},
   "source": [
    "### Deleting .mp3"
   ]
  },
  {
   "cell_type": "code",
   "execution_count": 12,
   "id": "e7f25987",
   "metadata": {},
   "outputs": [
    {
     "name": "stderr",
     "output_type": "stream",
     "text": [
      "100%|█████████████████████████████████████████| 161/161 [00:35<00:00,  4.53it/s]\n"
     ]
    }
   ],
   "source": [
    "dest_folder = \"/home/rajesh/Desktop/Datasets/Saraga3stem/\"\n",
    "files = [dest_folder+i for i in os.listdir(dest_folder)]\n",
    "for i in tqdm(files):\n",
    "    file = os.listdir(i)\n",
    "    for j in file:\n",
    "        if j[-3:] == 'mp3':\n",
    "            os.remove(i+'/'+j)"
   ]
  },
  {
   "cell_type": "code",
   "execution_count": null,
   "id": "f00b7c01",
   "metadata": {},
   "outputs": [],
   "source": []
  },
  {
   "cell_type": "markdown",
   "id": "bcdac653",
   "metadata": {},
   "source": [
    "### Vocal & Vocal Secondary Mix:"
   ]
  },
  {
   "cell_type": "code",
   "execution_count": 13,
   "id": "b0ad91c8",
   "metadata": {},
   "outputs": [
    {
     "name": "stderr",
     "output_type": "stream",
     "text": [
      "100%|█████████████████████████████████████████| 161/161 [00:46<00:00,  3.45it/s]\n"
     ]
    }
   ],
   "source": [
    "dest_folder = \"/home/rajesh/Desktop/Datasets/Saraga3stem/\"\n",
    "files = [dest_folder+i for i in os.listdir(dest_folder)]\n",
    "\n",
    "for i in tqdm(files):\n",
    "    file = os.listdir(i)\n",
    "    if 'vocals.wav' in file and 'svocals.wav' in file:\n",
    "        vocal1 = AudioSegment.from_file(i+'/vocals.wav', format=\"wav\")\n",
    "        vocal2 = AudioSegment.from_file(i+'/svocals.wav', format=\"wav\")\n",
    "        out = vocal1.overlay(vocal2, position=0)\n",
    "        os.remove(i+'/vocals.wav')\n",
    "        os.remove(i+'/svocals.wav')\n",
    "        out.export(i+'/vocals.wav', format=\"wav\")"
   ]
  },
  {
   "cell_type": "markdown",
   "id": "35b943bb",
   "metadata": {},
   "source": [
    "### Mirdangam Left & Right Mix"
   ]
  },
  {
   "cell_type": "code",
   "execution_count": 14,
   "id": "b4ebe838",
   "metadata": {},
   "outputs": [
    {
     "name": "stderr",
     "output_type": "stream",
     "text": [
      "100%|█████████████████████████████████████████| 161/161 [06:48<00:00,  2.54s/it]\n"
     ]
    }
   ],
   "source": [
    "dest_folder = \"/home/rajesh/Desktop/Datasets/Saraga3stem/\"\n",
    "files = [dest_folder+i for i in os.listdir(dest_folder)]\n",
    "\n",
    "for i in tqdm(files):\n",
    "    file = os.listdir(i)\n",
    "    if 'left.wav' in file and 'right.wav' in file:\n",
    "        left = AudioSegment.from_file(i+'/left.wav', format=\"wav\")\n",
    "        right = AudioSegment.from_file(i+'/right.wav', format=\"wav\")\n",
    "        out = left.overlay(right, position=0)\n",
    "        os.remove(i+'/left.wav')\n",
    "        os.remove(i+'/right.wav')\n",
    "        out.export(i+'/mridangam.wav', format=\"wav\")"
   ]
  },
  {
   "cell_type": "markdown",
   "id": "b94f2048",
   "metadata": {},
   "source": [
    "### Counting only ghatam"
   ]
  },
  {
   "cell_type": "code",
   "execution_count": 15,
   "id": "c61679d0",
   "metadata": {},
   "outputs": [
    {
     "name": "stderr",
     "output_type": "stream",
     "text": [
      "100%|█████████████████████████████████████████| 161/161 [00:05<00:00, 31.59it/s]"
     ]
    },
    {
     "name": "stdout",
     "output_type": "stream",
     "text": [
      "45 files available\n"
     ]
    },
    {
     "name": "stderr",
     "output_type": "stream",
     "text": [
      "\n"
     ]
    }
   ],
   "source": [
    "dest_folder = \"/home/rajesh/Desktop/Datasets/Saraga3stem/\"\n",
    "files = [dest_folder+i for i in os.listdir(dest_folder)]\n",
    "\n",
    "c = 0\n",
    "for i in tqdm(files):\n",
    "    file = os.listdir(i)\n",
    "    if 'ghatam.wav' in file:\n",
    "        c+=1\n",
    "print(c, 'files available')"
   ]
  },
  {
   "cell_type": "markdown",
   "id": "ecfc880d",
   "metadata": {},
   "source": [
    "### Counting Valid Three Stems (Vocals, Violin, Mridangam, Mixed)"
   ]
  },
  {
   "cell_type": "code",
   "execution_count": 16,
   "id": "ddd9d6a0",
   "metadata": {},
   "outputs": [
    {
     "name": "stderr",
     "output_type": "stream",
     "text": [
      "100%|██████████████████████████████████████| 161/161 [00:00<00:00, 15720.71it/s]"
     ]
    },
    {
     "name": "stdout",
     "output_type": "stream",
     "text": [
      "161 files available\n"
     ]
    },
    {
     "name": "stderr",
     "output_type": "stream",
     "text": [
      "\n"
     ]
    }
   ],
   "source": [
    "dest_folder = \"/home/rajesh/Desktop/Datasets/Saraga3stem/\"\n",
    "files = [dest_folder+i for i in os.listdir(dest_folder)]\n",
    "\n",
    "c = 0\n",
    "for i in tqdm(files):\n",
    "    file = os.listdir(i)\n",
    "    if 'vocals.wav' in file and 'violin.wav' in file and 'mridangam.wav' in file and 'mixture.wav' in file:\n",
    "        c+=1\n",
    "print(c, 'files available')"
   ]
  },
  {
   "cell_type": "markdown",
   "id": "ffd485de",
   "metadata": {},
   "source": [
    "### Converting Mixture from 2 channel to single channel"
   ]
  },
  {
   "cell_type": "code",
   "execution_count": 6,
   "id": "d49ca73f",
   "metadata": {},
   "outputs": [
    {
     "name": "stderr",
     "output_type": "stream",
     "text": [
      "100%|█████████████████████████████████████████| 161/161 [01:57<00:00,  1.37it/s]"
     ]
    },
    {
     "name": "stdout",
     "output_type": "stream",
     "text": [
      "0  files skipped\n"
     ]
    },
    {
     "name": "stderr",
     "output_type": "stream",
     "text": [
      "\n"
     ]
    }
   ],
   "source": [
    "dest_folder = \"/home/rajesh/Desktop/Datasets/Saraga3stem/\"\n",
    "files = [dest_folder+i for i in os.listdir(dest_folder)]\n",
    "\n",
    "skip = 0\n",
    "for i in tqdm(files):\n",
    "    file = os.listdir(i)\n",
    "    if 'vocals.wav' in file and 'violin.wav' in file and 'mridangam.wav' in file and 'mixture.wav' in file:\n",
    "        #print(i+'/vocals.wav')\n",
    "        #vocal, vsr = sf.read(i+'/vocals.wav')\n",
    "        #violin, visr = sf.read(i+'/violin.wav')\n",
    "        #mridangam, mrsr = sf.read(i+'/mridangam.wav')\n",
    "        mixture, msr = sf.read(i+'/mixture.wav')\n",
    "        \n",
    "        avg = []\n",
    "        try:\n",
    "            for j in mixture:\n",
    "                avg.append((j[0] + j[1])/2)\n",
    "                skip+=1 \n",
    "            flag = True\n",
    "        except:\n",
    "            avg = mixture\n",
    "            flag = False\n",
    "            \n",
    "        if flag == True:\n",
    "            print(\"No\")\n",
    "            #os.remove(i+'/mixture.wav')\n",
    "            #sf.write(i+'/mixture.wav', avg, msr)\n",
    "        \n",
    "print(skip, ' files skipped')"
   ]
  },
  {
   "cell_type": "markdown",
   "id": "a8c6216b",
   "metadata": {},
   "source": [
    "### Making all of same length"
   ]
  },
  {
   "cell_type": "code",
   "execution_count": 9,
   "id": "7f159f1c",
   "metadata": {},
   "outputs": [
    {
     "name": "stderr",
     "output_type": "stream",
     "text": [
      "100%|█████████████████████████████████████████| 161/161 [22:02<00:00,  8.21s/it]\n"
     ]
    }
   ],
   "source": [
    "dest_folder = \"/home/rajesh/Desktop/Datasets/Saraga3stem/\"\n",
    "files = [dest_folder+i for i in os.listdir(dest_folder)]\n",
    "\n",
    "for i in tqdm(files):\n",
    "    file = os.listdir(i)\n",
    "    if 'vocals.wav' in file and 'violin.wav' in file and 'mridangam.wav' in file and 'mixture.wav' in file:\n",
    "        vocal, vsr = sf.read(i+'/vocals.wav')\n",
    "        violin, visr = sf.read(i+'/violin.wav')\n",
    "        mridangam, mrsr = sf.read(i+'/mridangam.wav')\n",
    "        mixture, msr = sf.read(i+'/mixture.wav')\n",
    "        \n",
    "        \n",
    "        low = min([len(vocal), len(violin), len(mridangam), len(mixture)])\n",
    "        \n",
    "        mixture = mixture[:low]\n",
    "        \n",
    "        os.remove(i+'/mixture.wav')\n",
    "        sf.write(i+'/mixture.wav', avg, msr)"
   ]
  },
  {
   "cell_type": "code",
   "execution_count": 10,
   "id": "6dfb8b51",
   "metadata": {},
   "outputs": [
    {
     "name": "stderr",
     "output_type": "stream",
     "text": [
      "100%|█████████████████████████████████████████| 161/161 [15:59<00:00,  5.96s/it]\n"
     ]
    }
   ],
   "source": [
    "dest_folder = \"/home/rajesh/Desktop/Datasets/Saraga3stem/\"\n",
    "files = [dest_folder+i for i in os.listdir(dest_folder)]\n",
    "\n",
    "for i in tqdm(files):\n",
    "    file = os.listdir(i)\n",
    "    if 'vocals.wav' in file and 'violin.wav' in file and 'mridangam.wav' in file and 'mixture.wav' in file:\n",
    "        vocal, vsr = sf.read(i+'/vocals.wav')\n",
    "        violin, visr = sf.read(i+'/violin.wav')\n",
    "        mridangam, mrsr = sf.read(i+'/mridangam.wav')\n",
    "        mixture, msr = sf.read(i+'/mixture.wav')\n",
    "        \n",
    "        low = min([len(vocal), len(violin), len(mridangam), len(mixture)])\n",
    "        \n",
    "        violin = violin[:low]\n",
    "        \n",
    "        os.remove(i+'/violin.wav')\n",
    "        sf.write(i+'/violin.wav', violin, visr)"
   ]
  },
  {
   "cell_type": "code",
   "execution_count": 11,
   "id": "688c2d8f",
   "metadata": {},
   "outputs": [
    {
     "name": "stderr",
     "output_type": "stream",
     "text": [
      "100%|█████████████████████████████████████████| 161/161 [15:43<00:00,  5.86s/it]\n"
     ]
    }
   ],
   "source": [
    "dest_folder = \"/home/rajesh/Desktop/Datasets/Saraga3stem/\"\n",
    "files = [dest_folder+i for i in os.listdir(dest_folder)]\n",
    "\n",
    "for i in tqdm(files):\n",
    "    file = os.listdir(i)\n",
    "    if 'vocals.wav' in file and 'violin.wav' in file and 'mridangam.wav' in file and 'mixture.wav' in file:\n",
    "        vocal, vsr = sf.read(i+'/vocals.wav')\n",
    "        violin, visr = sf.read(i+'/violin.wav')\n",
    "        mridangam, mrsr = sf.read(i+'/mridangam.wav')\n",
    "        mixture, msr = sf.read(i+'/mixture.wav')\n",
    "        \n",
    "        low = min([len(vocal), len(violin), len(mridangam), len(mixture)])\n",
    "        \n",
    "        mridangam = mridangam[:low]\n",
    "        \n",
    "        os.remove(i+'/mridangam.wav')\n",
    "        sf.write(i+'/mridangam.wav', mridangam, mrsr)"
   ]
  },
  {
   "cell_type": "code",
   "execution_count": 12,
   "id": "86f982f5",
   "metadata": {},
   "outputs": [
    {
     "name": "stderr",
     "output_type": "stream",
     "text": [
      "100%|█████████████████████████████████████████| 161/161 [13:54<00:00,  5.18s/it]\n"
     ]
    }
   ],
   "source": [
    "dest_folder = \"/home/rajesh/Desktop/Datasets/Saraga3stem/\"\n",
    "files = [dest_folder+i for i in os.listdir(dest_folder)]\n",
    "\n",
    "for i in tqdm(files):\n",
    "    file = os.listdir(i)\n",
    "    if 'vocals.wav' in file and 'violin.wav' in file and 'mridangam.wav' in file and 'mixture.wav' in file:\n",
    "        vocal, vsr = sf.read(i+'/vocals.wav')\n",
    "        violin, visr = sf.read(i+'/violin.wav')\n",
    "        mridangam, mrsr = sf.read(i+'/mridangam.wav')\n",
    "        mixture, msr = sf.read(i+'/mixture.wav')\n",
    "        \n",
    "        low = min([len(vocal), len(violin), len(mridangam), len(mixture)])\n",
    "        \n",
    "        vocal = vocal[:low]\n",
    "        \n",
    "        os.remove(i+'/vocals.wav')\n",
    "        sf.write(i+'/vocals.wav', mridangam, mrsr)\n",
    "            "
   ]
  },
  {
   "cell_type": "code",
   "execution_count": null,
   "id": "c490b4ef",
   "metadata": {},
   "outputs": [],
   "source": []
  },
  {
   "cell_type": "code",
   "execution_count": null,
   "id": "8cd057f7",
   "metadata": {},
   "outputs": [],
   "source": []
  },
  {
   "cell_type": "code",
   "execution_count": null,
   "id": "1a69958d",
   "metadata": {},
   "outputs": [],
   "source": []
  },
  {
   "cell_type": "code",
   "execution_count": null,
   "id": "e7556329",
   "metadata": {},
   "outputs": [],
   "source": []
  },
  {
   "cell_type": "code",
   "execution_count": null,
   "id": "f275c603",
   "metadata": {},
   "outputs": [],
   "source": []
  },
  {
   "cell_type": "code",
   "execution_count": null,
   "id": "eb299cfe",
   "metadata": {},
   "outputs": [],
   "source": []
  },
  {
   "cell_type": "code",
   "execution_count": null,
   "id": "c4cefe4f",
   "metadata": {},
   "outputs": [],
   "source": []
  },
  {
   "cell_type": "code",
   "execution_count": null,
   "id": "640fa7af",
   "metadata": {},
   "outputs": [],
   "source": []
  },
  {
   "cell_type": "code",
   "execution_count": null,
   "id": "69a172c8",
   "metadata": {},
   "outputs": [],
   "source": []
  },
  {
   "cell_type": "code",
   "execution_count": null,
   "id": "2c716fb3",
   "metadata": {},
   "outputs": [],
   "source": []
  },
  {
   "cell_type": "code",
   "execution_count": null,
   "id": "232cda50",
   "metadata": {},
   "outputs": [],
   "source": []
  },
  {
   "cell_type": "code",
   "execution_count": null,
   "id": "c91d28a0",
   "metadata": {},
   "outputs": [],
   "source": []
  },
  {
   "cell_type": "code",
   "execution_count": null,
   "id": "493feb65",
   "metadata": {},
   "outputs": [],
   "source": []
  },
  {
   "cell_type": "code",
   "execution_count": null,
   "id": "8198107b",
   "metadata": {},
   "outputs": [],
   "source": []
  },
  {
   "cell_type": "code",
   "execution_count": null,
   "id": "4f8850d6",
   "metadata": {},
   "outputs": [],
   "source": []
  }
 ],
 "metadata": {
  "kernelspec": {
   "display_name": "Python 3 (ipykernel)",
   "language": "python",
   "name": "python3"
  },
  "language_info": {
   "codemirror_mode": {
    "name": "ipython",
    "version": 3
   },
   "file_extension": ".py",
   "mimetype": "text/x-python",
   "name": "python",
   "nbconvert_exporter": "python",
   "pygments_lexer": "ipython3",
   "version": "3.10.6"
  }
 },
 "nbformat": 4,
 "nbformat_minor": 5
}
