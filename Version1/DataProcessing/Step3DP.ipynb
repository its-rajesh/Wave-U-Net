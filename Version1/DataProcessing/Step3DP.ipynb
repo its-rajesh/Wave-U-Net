{
 "cells": [
  {
   "cell_type": "markdown",
   "id": "6020522a-52e0-47a8-b5e2-8eac09729420",
   "metadata": {},
   "source": [
    "# Combining Mrindangam Data"
   ]
  },
  {
   "cell_type": "code",
   "execution_count": 1,
   "id": "ee37a4e9-c56f-4126-911e-dfda986392c1",
   "metadata": {},
   "outputs": [],
   "source": [
    "import soundfile as sf\n",
    "import librosa as lb\n",
    "import numpy as np\n",
    "from matplotlib import pyplot as plt\n",
    "import os\n",
    "import pandas as pd\n",
    "import re\n",
    "import cmath"
   ]
  },
  {
   "cell_type": "code",
   "execution_count": 2,
   "id": "069c639f-2fba-4343-887e-13eeea55188e",
   "metadata": {},
   "outputs": [],
   "source": [
    "import shutil"
   ]
  },
  {
   "cell_type": "code",
   "execution_count": 5,
   "id": "9271e85d-c943-4eca-a836-610b64bfe8bc",
   "metadata": {},
   "outputs": [],
   "source": [
    "from pydub import AudioSegment"
   ]
  },
  {
   "cell_type": "code",
   "execution_count": 29,
   "id": "213435ec-bb12-45fe-b157-a6e967436f27",
   "metadata": {},
   "outputs": [],
   "source": [
    "path = '/users/rajeshr/Desktop/Saraga Sorted/'\n",
    "files = [path+i for i in os.listdir(path)]"
   ]
  },
  {
   "cell_type": "code",
   "execution_count": 33,
   "id": "39c84d48-421c-4e08-bbd6-b37f1ea82154",
   "metadata": {},
   "outputs": [
    {
     "data": {
      "text/plain": [
       "91"
      ]
     },
     "execution_count": 33,
     "metadata": {},
     "output_type": "execute_result"
    }
   ],
   "source": [
    "len(files)"
   ]
  },
  {
   "cell_type": "code",
   "execution_count": 32,
   "id": "9a1f9947-134a-42bc-bb38-1ee262a96661",
   "metadata": {},
   "outputs": [
    {
     "name": "stdout",
     "output_type": "stream",
     "text": [
      "MERGED!\n",
      "MERGED!\n",
      "MERGED!\n",
      "MERGED!\n",
      "MERGED!\n",
      "MERGED!\n",
      "MERGED!\n",
      "MERGED!\n",
      "MERGED!\n",
      "MERGED!\n",
      "MERGED!\n",
      "MERGED!\n",
      "MERGED!\n",
      "MERGED!\n",
      "MERGED!\n",
      "MERGED!\n",
      "MERGED!\n",
      "MERGED!\n",
      "MERGED!\n",
      "MERGED!\n",
      "MERGED!\n",
      "MERGED!\n",
      "MERGED!\n",
      "MERGED!\n",
      "MERGED!\n",
      "MERGED!\n",
      "MERGED!\n",
      "MERGED!\n",
      "MERGED!\n",
      "MERGED!\n",
      "MERGED!\n",
      "MERGED!\n",
      "MERGED!\n",
      "MERGED!\n",
      "MERGED!\n",
      "MERGED!\n",
      "MERGED!\n",
      "MERGED!\n",
      "MERGED!\n",
      "MERGED!\n",
      "MERGED!\n",
      "MERGED!\n",
      "MERGED!\n",
      "MERGED!\n",
      "MERGED!\n",
      "MERGED!\n",
      "MERGED!\n",
      "MERGED!\n",
      "MERGED!\n",
      "MERGED!\n",
      "MERGED!\n",
      "MERGED!\n",
      "MERGED!\n",
      "MERGED!\n",
      "MERGED!\n",
      "MERGED!\n",
      "MERGED!\n",
      "MERGED!\n",
      "MERGED!\n",
      "MERGED!\n",
      "MERGED!\n",
      "MERGED!\n",
      "MERGED!\n",
      "MERGED!\n",
      "MERGED!\n",
      "MERGED!\n",
      "MERGED!\n",
      "MERGED!\n",
      "MERGED!\n",
      "MERGED!\n",
      "MERGED!\n",
      "MERGED!\n",
      "MERGED!\n",
      "MERGED!\n",
      "MERGED!\n",
      "MERGED!\n",
      "MERGED!\n",
      "MERGED!\n",
      "MERGED!\n",
      "MERGED!\n",
      "MERGED!\n",
      "MERGED!\n",
      "MERGED!\n",
      "MERGED!\n",
      "MERGED!\n",
      "MERGED!\n",
      "MERGED!\n",
      "MERGED!\n",
      "MERGED!\n",
      "MERGED!\n",
      "MERGED!\n",
      "91\n"
     ]
    }
   ],
   "source": [
    "c = 0\n",
    "for f in files:\n",
    "    if f != '/users/rajeshr/Desktop/Saraga Sorted/.DS_Store':\n",
    "        \n",
    "        if 'mridangam.mp3' in os.listdir(f):\n",
    "            pass\n",
    "        else:\n",
    "            l = f+'/mridangam_left.mp3'\n",
    "            r = f+'/mridangam_right.mp3'\n",
    "            left = AudioSegment.from_file(l, format=\"mp3\")\n",
    "            right = AudioSegment.from_file(r, format=\"mp3\")\n",
    "\n",
    "            add = left.overlay(right, position=0)\n",
    "            add.export(f+'/mridangam.mp3', format=\"mp3\")\n",
    "        \n",
    "    print('MERGED!')\n",
    "    c+=1\n",
    "print(c)"
   ]
  },
  {
   "cell_type": "code",
   "execution_count": 38,
   "id": "8def17f2-b6ca-4ff4-9a6e-3459e522ec78",
   "metadata": {},
   "outputs": [
    {
     "name": "stdout",
     "output_type": "stream",
     "text": [
      "/users/rajeshr/Desktop/Saraga Sorted/Aaniraimekkani/mridangam_left.mp3\t/users/rajeshr/Desktop/Saraga Sorted/Aaniraimekkani/mridangam_right.mp3\tREMOVED!\n",
      "/users/rajeshr/Desktop/Saraga Sorted/Munnu Ravana/mridangam_left.mp3\t/users/rajeshr/Desktop/Saraga Sorted/Munnu Ravana/mridangam_right.mp3\tREMOVED!\n",
      "/users/rajeshr/Desktop/Saraga Sorted/Chinnanchiru Kiliye/mridangam_left.mp3\t/users/rajeshr/Desktop/Saraga Sorted/Chinnanchiru Kiliye/mridangam_right.mp3\tREMOVED!\n",
      "/users/rajeshr/Desktop/Saraga Sorted/Parvathi Ninu Ne Nera Nammithi/mridangam_left.mp3\t/users/rajeshr/Desktop/Saraga Sorted/Parvathi Ninu Ne Nera Nammithi/mridangam_right.mp3\tREMOVED!\n",
      "/users/rajeshr/Desktop/Saraga Sorted/Nee Sari evvaramma/mridangam_left.mp3\t/users/rajeshr/Desktop/Saraga Sorted/Nee Sari evvaramma/mridangam_right.mp3\tREMOVED!\n",
      "/users/rajeshr/Desktop/Saraga Sorted/Tolinenu Jesina/mridangam_left.mp3\t/users/rajeshr/Desktop/Saraga Sorted/Tolinenu Jesina/mridangam_right.mp3\tREMOVED!\n",
      "/users/rajeshr/Desktop/Saraga Sorted/Prathi Vaaram Vaaram/mridangam_left.mp3\t/users/rajeshr/Desktop/Saraga Sorted/Prathi Vaaram Vaaram/mridangam_right.mp3\tREMOVED!\n",
      "/users/rajeshr/Desktop/Saraga Sorted/Enadhu Manam Kavalai/mridangam_left.mp3\t/users/rajeshr/Desktop/Saraga Sorted/Enadhu Manam Kavalai/mridangam_right.mp3\tREMOVED!\n",
      "/users/rajeshr/Desktop/Saraga Sorted/Apparama Bhakti/mridangam_left.mp3\t/users/rajeshr/Desktop/Saraga Sorted/Apparama Bhakti/mridangam_right.mp3\tREMOVED!\n",
      "/users/rajeshr/Desktop/Saraga Sorted/Kailasapathe/mridangam_left.mp3\t/users/rajeshr/Desktop/Saraga Sorted/Kailasapathe/mridangam_right.mp3\tREMOVED!\n",
      "/users/rajeshr/Desktop/Saraga Sorted/Manadirkkugandhadu/mridangam_left.mp3\t/users/rajeshr/Desktop/Saraga Sorted/Manadirkkugandhadu/mridangam_right.mp3\tREMOVED!\n",
      "/users/rajeshr/Desktop/Saraga Sorted/Varashiki Vahana/mridangam_left.mp3\t/users/rajeshr/Desktop/Saraga Sorted/Varashiki Vahana/mridangam_right.mp3\tREMOVED!\n",
      "/users/rajeshr/Desktop/Saraga Sorted/Shri Kamakshi Shritajana/mridangam_left.mp3\t/users/rajeshr/Desktop/Saraga Sorted/Shri Kamakshi Shritajana/mridangam_right.mp3\tREMOVED!\n",
      "/users/rajeshr/Desktop/Saraga Sorted/Idhu Thaano Thillai Sthalam/mridangam_left.mp3\t/users/rajeshr/Desktop/Saraga Sorted/Idhu Thaano Thillai Sthalam/mridangam_right.mp3\tREMOVED!\n",
      "/users/rajeshr/Desktop/Saraga Sorted/Vanajaksha Ninne Kori/mridangam_left.mp3\t/users/rajeshr/Desktop/Saraga Sorted/Vanajaksha Ninne Kori/mridangam_right.mp3\tREMOVED!\n",
      "/users/rajeshr/Desktop/Saraga Sorted/Arul Seya Vendum Ayya/mridangam_left.mp3\t/users/rajeshr/Desktop/Saraga Sorted/Arul Seya Vendum Ayya/mridangam_right.mp3\tREMOVED!\n",
      "/users/rajeshr/Desktop/Saraga Sorted/Sogasuga/mridangam_left.mp3\t/users/rajeshr/Desktop/Saraga Sorted/Sogasuga/mridangam_right.mp3\tREMOVED!\n",
      "/users/rajeshr/Desktop/Saraga Sorted/Ninne Bhajana/mridangam_left.mp3\t/users/rajeshr/Desktop/Saraga Sorted/Ninne Bhajana/mridangam_right.mp3\tREMOVED!\n",
      "/users/rajeshr/Desktop/Saraga Sorted/Rama Neepai/mridangam_left.mp3\t/users/rajeshr/Desktop/Saraga Sorted/Rama Neepai/mridangam_right.mp3\tREMOVED!\n",
      "/users/rajeshr/Desktop/Saraga Sorted/Thillana Vasanta/mridangam_left.mp3\t/users/rajeshr/Desktop/Saraga Sorted/Thillana Vasanta/mridangam_right.mp3\tREMOVED!\n",
      "/users/rajeshr/Desktop/Saraga Sorted/Neene Ballideno/mridangam_left.mp3\t/users/rajeshr/Desktop/Saraga Sorted/Neene Ballideno/mridangam_right.mp3\tREMOVED!\n",
      "/users/rajeshr/Desktop/Saraga Sorted/Janakipathe/mridangam_left.mp3\t/users/rajeshr/Desktop/Saraga Sorted/Janakipathe/mridangam_right.mp3\tREMOVED!\n",
      "/users/rajeshr/Desktop/Saraga Sorted/Shlokham/mridangam_left.mp3\t/users/rajeshr/Desktop/Saraga Sorted/Shlokham/mridangam_right.mp3\tREMOVED!\n",
      "/users/rajeshr/Desktop/Saraga Sorted/Paragu Matada/mridangam_left.mp3\t/users/rajeshr/Desktop/Saraga Sorted/Paragu Matada/mridangam_right.mp3\tREMOVED!\n",
      "/users/rajeshr/Desktop/Saraga Sorted/Nannu Brova Neeku/mridangam_left.mp3\t/users/rajeshr/Desktop/Saraga Sorted/Nannu Brova Neeku/mridangam_right.mp3\tREMOVED!\n",
      "/users/rajeshr/Desktop/Saraga Sorted/Palisomma Muddu Sarade/mridangam_left.mp3\t/users/rajeshr/Desktop/Saraga Sorted/Palisomma Muddu Sarade/mridangam_right.mp3\tREMOVED!\n",
      "/users/rajeshr/Desktop/Saraga Sorted/Nera Nammiti/mridangam_left.mp3\t/users/rajeshr/Desktop/Saraga Sorted/Nera Nammiti/mridangam_right.mp3\tREMOVED!\n",
      "/users/rajeshr/Desktop/Saraga Sorted/Koti Janmani/mridangam_left.mp3\t/users/rajeshr/Desktop/Saraga Sorted/Koti Janmani/mridangam_right.mp3\tREMOVED!\n",
      "/users/rajeshr/Desktop/Saraga Sorted/Parvathi Ninnu Neranammiti/mridangam_left.mp3\t/users/rajeshr/Desktop/Saraga Sorted/Parvathi Ninnu Neranammiti/mridangam_right.mp3\tREMOVED!\n",
      "/users/rajeshr/Desktop/Saraga Sorted/Jaya Jaya Janaki Kantha/mridangam_left.mp3\t/users/rajeshr/Desktop/Saraga Sorted/Jaya Jaya Janaki Kantha/mridangam_right.mp3\tREMOVED!\n",
      "/users/rajeshr/Desktop/Saraga Sorted/Nadatanum Anisham/mridangam_left.mp3\t/users/rajeshr/Desktop/Saraga Sorted/Nadatanum Anisham/mridangam_right.mp3\tREMOVED!\n",
      "/users/rajeshr/Desktop/Saraga Sorted/Sarasuda Ninne Kori/mridangam_left.mp3\t/users/rajeshr/Desktop/Saraga Sorted/Sarasuda Ninne Kori/mridangam_right.mp3\tREMOVED!\n",
      "/users/rajeshr/Desktop/Saraga Sorted/Dharini Telusukonti/mridangam_left.mp3\t/users/rajeshr/Desktop/Saraga Sorted/Dharini Telusukonti/mridangam_right.mp3\tREMOVED!\n",
      "/users/rajeshr/Desktop/Saraga Sorted/Pranamamyaham Sri Prananatham/mridangam_left.mp3\t/users/rajeshr/Desktop/Saraga Sorted/Pranamamyaham Sri Prananatham/mridangam_right.mp3\tREMOVED!\n",
      "/users/rajeshr/Desktop/Saraga Sorted/Shri Guruguhasya/mridangam_left.mp3\t/users/rajeshr/Desktop/Saraga Sorted/Shri Guruguhasya/mridangam_right.mp3\tREMOVED!\n",
      "/users/rajeshr/Desktop/Saraga Sorted/Janakipathe Jaya Karunya Jaladhe/mridangam_left.mp3\t/users/rajeshr/Desktop/Saraga Sorted/Janakipathe Jaya Karunya Jaladhe/mridangam_right.mp3\tREMOVED!\n",
      "/users/rajeshr/Desktop/Saraga Sorted/Entha Muddo/mridangam_left.mp3\t/users/rajeshr/Desktop/Saraga Sorted/Entha Muddo/mridangam_right.mp3\tREMOVED!\n",
      "/users/rajeshr/Desktop/Saraga Sorted/Etulabrotuva/mridangam_left.mp3\t/users/rajeshr/Desktop/Saraga Sorted/Etulabrotuva/mridangam_right.mp3\tREMOVED!\n",
      "/users/rajeshr/Desktop/Saraga Sorted/Vanajaksha Ninne Nammiti/mridangam_left.mp3\t/users/rajeshr/Desktop/Saraga Sorted/Vanajaksha Ninne Nammiti/mridangam_right.mp3\tREMOVED!\n",
      "/users/rajeshr/Desktop/Saraga Sorted/Kannallavo Swami/mridangam_left.mp3\t/users/rajeshr/Desktop/Saraga Sorted/Kannallavo Swami/mridangam_right.mp3\tREMOVED!\n",
      "/users/rajeshr/Desktop/Saraga Sorted/Eppadi Padinaro/mridangam_left.mp3\t/users/rajeshr/Desktop/Saraga Sorted/Eppadi Padinaro/mridangam_right.mp3\tREMOVED!\n",
      "/users/rajeshr/Desktop/Saraga Sorted/Manasaramathi/mridangam_left.mp3\t/users/rajeshr/Desktop/Saraga Sorted/Manasaramathi/mridangam_right.mp3\tREMOVED!\n",
      "/users/rajeshr/Desktop/Saraga Sorted/Lokavana Chatura/mridangam_left.mp3\t/users/rajeshr/Desktop/Saraga Sorted/Lokavana Chatura/mridangam_right.mp3\tREMOVED!\n",
      "/users/rajeshr/Desktop/Saraga Sorted/Bhuvini Dasudane/mridangam_left.mp3\t/users/rajeshr/Desktop/Saraga Sorted/Bhuvini Dasudane/mridangam_right.mp3\tREMOVED!\n",
      "/users/rajeshr/Desktop/Saraga Sorted/Padavini/mridangam_left.mp3\t/users/rajeshr/Desktop/Saraga Sorted/Padavini/mridangam_right.mp3\tREMOVED!\n",
      "/users/rajeshr/Desktop/Saraga Sorted/Karuna Nidhi Illalo/mridangam_left.mp3\t/users/rajeshr/Desktop/Saraga Sorted/Karuna Nidhi Illalo/mridangam_right.mp3\tREMOVED!\n",
      "/users/rajeshr/Desktop/Saraga Sorted/Athirum Kazhal/mridangam_left.mp3\t/users/rajeshr/Desktop/Saraga Sorted/Athirum Kazhal/mridangam_right.mp3\tREMOVED!\n",
      "/users/rajeshr/Desktop/Saraga Sorted/Vandu Ketpaar Illayo/mridangam_left.mp3\t/users/rajeshr/Desktop/Saraga Sorted/Vandu Ketpaar Illayo/mridangam_right.mp3\tREMOVED!\n",
      "/users/rajeshr/Desktop/Saraga Sorted/Sri Jalandara/mridangam_left.mp3\t/users/rajeshr/Desktop/Saraga Sorted/Sri Jalandara/mridangam_right.mp3\tREMOVED!\n",
      "/users/rajeshr/Desktop/Saraga Sorted/Bandadella Barali/mridangam_left.mp3\t/users/rajeshr/Desktop/Saraga Sorted/Bandadella Barali/mridangam_right.mp3\tREMOVED!\n",
      "/users/rajeshr/Desktop/Saraga Sorted/Enta Bhagyamu/mridangam_left.mp3\t/users/rajeshr/Desktop/Saraga Sorted/Enta Bhagyamu/mridangam_right.mp3\tREMOVED!\n",
      "/users/rajeshr/Desktop/Saraga Sorted/Siva Siva Siva Yenarada/mridangam_left.mp3\t/users/rajeshr/Desktop/Saraga Sorted/Siva Siva Siva Yenarada/mridangam_right.mp3\tREMOVED!\n",
      "/users/rajeshr/Desktop/Saraga Sorted/Dorakuna/mridangam_left.mp3\t/users/rajeshr/Desktop/Saraga Sorted/Dorakuna/mridangam_right.mp3\tREMOVED!\n",
      "/users/rajeshr/Desktop/Saraga Sorted/Thanaithilam Kattrerumai/mridangam_left.mp3\t/users/rajeshr/Desktop/Saraga Sorted/Thanaithilam Kattrerumai/mridangam_right.mp3\tREMOVED!\n",
      "/users/rajeshr/Desktop/Saraga Sorted/Enthavedukonthu Raghava/mridangam_left.mp3\t/users/rajeshr/Desktop/Saraga Sorted/Enthavedukonthu Raghava/mridangam_right.mp3\tREMOVED!\n",
      "/users/rajeshr/Desktop/Saraga Sorted/Jaya Jaya Padmanabhanujese/mridangam_left.mp3\t/users/rajeshr/Desktop/Saraga Sorted/Jaya Jaya Padmanabhanujese/mridangam_right.mp3\tREMOVED!\n",
      "/users/rajeshr/Desktop/Saraga Sorted/Ramabhi Rama Manasu/mridangam_left.mp3\t/users/rajeshr/Desktop/Saraga Sorted/Ramabhi Rama Manasu/mridangam_right.mp3\tREMOVED!\n",
      "/users/rajeshr/Desktop/Saraga Sorted/Eramuni/mridangam_left.mp3\t/users/rajeshr/Desktop/Saraga Sorted/Eramuni/mridangam_right.mp3\tREMOVED!\n",
      "/users/rajeshr/Desktop/Saraga Sorted/Devadi Devanukku Jaya Mangalam/mridangam_left.mp3\t/users/rajeshr/Desktop/Saraga Sorted/Devadi Devanukku Jaya Mangalam/mridangam_right.mp3\tREMOVED!\n",
      "/users/rajeshr/Desktop/Saraga Sorted/Ganamuda Panam/mridangam_left.mp3\t/users/rajeshr/Desktop/Saraga Sorted/Ganamuda Panam/mridangam_right.mp3\tREMOVED!\n",
      "/users/rajeshr/Desktop/Saraga Sorted/Thappi Bratikipova/mridangam_left.mp3\t/users/rajeshr/Desktop/Saraga Sorted/Thappi Bratikipova/mridangam_right.mp3\tREMOVED!\n",
      "/users/rajeshr/Desktop/Saraga Sorted/Dinamani Vamsa/mridangam_left.mp3\t/users/rajeshr/Desktop/Saraga Sorted/Dinamani Vamsa/mridangam_right.mp3\tREMOVED!\n",
      "/users/rajeshr/Desktop/Saraga Sorted/Budham Aashrayami/mridangam_left.mp3\t/users/rajeshr/Desktop/Saraga Sorted/Budham Aashrayami/mridangam_right.mp3\tREMOVED!\n",
      "/users/rajeshr/Desktop/Saraga Sorted/Chidambara Natarajam/mridangam_left.mp3\t/users/rajeshr/Desktop/Saraga Sorted/Chidambara Natarajam/mridangam_right.mp3\tREMOVED!\n",
      "/users/rajeshr/Desktop/Saraga Sorted/Parama Pavana Rama/mridangam_left.mp3\t/users/rajeshr/Desktop/Saraga Sorted/Parama Pavana Rama/mridangam_right.mp3\tREMOVED!\n",
      "/users/rajeshr/Desktop/Saraga Sorted/Kanukontini/mridangam_left.mp3\t/users/rajeshr/Desktop/Saraga Sorted/Kanukontini/mridangam_right.mp3\tREMOVED!\n",
      "/users/rajeshr/Desktop/Saraga Sorted/Ragam Tanam Pallavi/mridangam_left.mp3\t/users/rajeshr/Desktop/Saraga Sorted/Ragam Tanam Pallavi/mridangam_right.mp3\tREMOVED!\n",
      "/users/rajeshr/Desktop/Saraga Sorted/Kannanai Paadu Maname/mridangam_left.mp3\t/users/rajeshr/Desktop/Saraga Sorted/Kannanai Paadu Maname/mridangam_right.mp3\tREMOVED!\n",
      "/users/rajeshr/Desktop/Saraga Sorted/Tulasi Bilva/mridangam_left.mp3\t/users/rajeshr/Desktop/Saraga Sorted/Tulasi Bilva/mridangam_right.mp3\tREMOVED!\n",
      "/users/rajeshr/Desktop/Saraga Sorted/Amba Nilambari/mridangam_left.mp3\t/users/rajeshr/Desktop/Saraga Sorted/Amba Nilambari/mridangam_right.mp3\tREMOVED!\n",
      "/users/rajeshr/Desktop/Saraga Sorted/Tamburi Mitidava/mridangam_left.mp3\t/users/rajeshr/Desktop/Saraga Sorted/Tamburi Mitidava/mridangam_right.mp3\tREMOVED!\n",
      "/users/rajeshr/Desktop/Saraga Sorted/Kanakangaka Guha/mridangam_left.mp3\t/users/rajeshr/Desktop/Saraga Sorted/Kanakangaka Guha/mridangam_right.mp3\tREMOVED!\n",
      "/users/rajeshr/Desktop/Saraga Sorted/Paahi Maam Sri/mridangam_left.mp3\t/users/rajeshr/Desktop/Saraga Sorted/Paahi Maam Sri/mridangam_right.mp3\tREMOVED!\n",
      "/users/rajeshr/Desktop/Saraga Sorted/Sharanu Janakana/mridangam_left.mp3\t/users/rajeshr/Desktop/Saraga Sorted/Sharanu Janakana/mridangam_right.mp3\tREMOVED!\n",
      "/users/rajeshr/Desktop/Saraga Sorted/Tillana/mridangam_left.mp3\t/users/rajeshr/Desktop/Saraga Sorted/Tillana/mridangam_right.mp3\tREMOVED!\n",
      "/users/rajeshr/Desktop/Saraga Sorted/Krishna Nee Begane Baaro/mridangam_left.mp3\t/users/rajeshr/Desktop/Saraga Sorted/Krishna Nee Begane Baaro/mridangam_right.mp3\tREMOVED!\n",
      "/users/rajeshr/Desktop/Saraga Sorted/Eppadi Manam Thunindhadho/mridangam_left.mp3\t/users/rajeshr/Desktop/Saraga Sorted/Eppadi Manam Thunindhadho/mridangam_right.mp3\tREMOVED!\n",
      "/users/rajeshr/Desktop/Saraga Sorted/Thiruveragane Saveri Varnam/mridangam_left.mp3\t/users/rajeshr/Desktop/Saraga Sorted/Thiruveragane Saveri Varnam/mridangam_right.mp3\tREMOVED!\n",
      "/users/rajeshr/Desktop/Saraga Sorted/Gnanamosaga Rada/mridangam_left.mp3\t/users/rajeshr/Desktop/Saraga Sorted/Gnanamosaga Rada/mridangam_right.mp3\tREMOVED!\n",
      "/users/rajeshr/Desktop/Saraga Sorted/Geeta Nayakan/mridangam_left.mp3\t/users/rajeshr/Desktop/Saraga Sorted/Geeta Nayakan/mridangam_right.mp3\tREMOVED!\n",
      "/users/rajeshr/Desktop/Saraga Sorted/Siddhi Vinayakam/mridangam_left.mp3\t/users/rajeshr/Desktop/Saraga Sorted/Siddhi Vinayakam/mridangam_right.mp3\tREMOVED!\n",
      "/users/rajeshr/Desktop/Saraga Sorted/Ardhanarishwaram/mridangam_left.mp3\t/users/rajeshr/Desktop/Saraga Sorted/Ardhanarishwaram/mridangam_right.mp3\tREMOVED!\n",
      "/users/rajeshr/Desktop/Saraga Sorted/Lalitha Lavanga/mridangam_left.mp3\t/users/rajeshr/Desktop/Saraga Sorted/Lalitha Lavanga/mridangam_right.mp3\tREMOVED!\n",
      "/users/rajeshr/Desktop/Saraga Sorted/Karuna Ela Gante/mridangam_left.mp3\t/users/rajeshr/Desktop/Saraga Sorted/Karuna Ela Gante/mridangam_right.mp3\tREMOVED!\n",
      "/users/rajeshr/Desktop/Saraga Sorted/Ninnuvina Marigalada/mridangam_left.mp3\t/users/rajeshr/Desktop/Saraga Sorted/Ninnuvina Marigalada/mridangam_right.mp3\tREMOVED!\n",
      "/users/rajeshr/Desktop/Saraga Sorted/Vara Leela Gana Lola/mridangam_left.mp3\t/users/rajeshr/Desktop/Saraga Sorted/Vara Leela Gana Lola/mridangam_right.mp3\tREMOVED!\n",
      "/users/rajeshr/Desktop/Saraga Sorted/Gam Ganapate/mridangam_left.mp3\t/users/rajeshr/Desktop/Saraga Sorted/Gam Ganapate/mridangam_right.mp3\tREMOVED!\n",
      "/users/rajeshr/Desktop/Saraga Sorted/Thillana Pahadi/mridangam_left.mp3\t/users/rajeshr/Desktop/Saraga Sorted/Thillana Pahadi/mridangam_right.mp3\tREMOVED!\n",
      "/users/rajeshr/Desktop/Saraga Sorted/Kari Kalabha Mukham/mridangam_left.mp3\t/users/rajeshr/Desktop/Saraga Sorted/Kari Kalabha Mukham/mridangam_right.mp3\tREMOVED!\n",
      "/users/rajeshr/Desktop/Saraga Sorted/Velum Mayilume/mridangam_left.mp3\t/users/rajeshr/Desktop/Saraga Sorted/Velum Mayilume/mridangam_right.mp3\tREMOVED!\n",
      "91\n"
     ]
    }
   ],
   "source": [
    "c = 0\n",
    "for f in files:\n",
    "    if f != '/users/rajeshr/Desktop/Saraga Sorted/.DS_Store':\n",
    "        \n",
    "        l = f+'/mridangam_left.mp3'\n",
    "        r = f+'/mridangam_right.mp3'\n",
    "        \n",
    "        try:\n",
    "            os.remove(l)\n",
    "            os.remove(r)\n",
    "        except:\n",
    "            pass\n",
    "        \n",
    "        print(l, r, 'REMOVED!', sep='\\t')\n",
    "        \n",
    "    c+=1\n",
    "print(c)"
   ]
  },
  {
   "cell_type": "code",
   "execution_count": null,
   "id": "d19e0af9-05f6-478d-8490-bf9598909588",
   "metadata": {},
   "outputs": [],
   "source": []
  },
  {
   "cell_type": "code",
   "execution_count": null,
   "id": "801fc44a-bd10-4e39-81c1-b262b0725800",
   "metadata": {},
   "outputs": [],
   "source": []
  },
  {
   "cell_type": "markdown",
   "id": "24ad265a-6962-4342-9cf5-0a4b9b8e6ed4",
   "metadata": {},
   "source": [
    "# Check for all inst sounds available or not"
   ]
  },
  {
   "cell_type": "code",
   "execution_count": 51,
   "id": "ca420d30-37b7-4831-887d-d8eb957d3bdf",
   "metadata": {},
   "outputs": [],
   "source": [
    "path = '/users/rajeshr/Desktop/Saraga Sorted/'\n",
    "files = [path+i for i in os.listdir(path)]"
   ]
  },
  {
   "cell_type": "code",
   "execution_count": 52,
   "id": "1f06c4d0-1031-4c16-b71a-00dde0ba7e25",
   "metadata": {},
   "outputs": [
    {
     "name": "stdout",
     "output_type": "stream",
     "text": [
      "80\n"
     ]
    }
   ],
   "source": [
    "c = 0\n",
    "for f in files:\n",
    "    if f != '/users/rajeshr/Desktop/Saraga Sorted/.DS_Store':\n",
    "        arr = os.listdir(f)\n",
    "        n = len(arr)\n",
    "        c+=1\n",
    "        if n!= 5:\n",
    "            print(f)\n",
    "            shutil.rmtree(f)\n",
    "print(c)"
   ]
  },
  {
   "cell_type": "code",
   "execution_count": null,
   "id": "bfbac0b3-75e5-4230-8b1d-d3aa53c847a0",
   "metadata": {},
   "outputs": [],
   "source": []
  },
  {
   "cell_type": "code",
   "execution_count": 54,
   "id": "9af1ee14-ea4e-4cf8-8118-1ed16ce014eb",
   "metadata": {},
   "outputs": [
    {
     "data": {
      "text/plain": [
       "64.0"
      ]
     },
     "execution_count": 54,
     "metadata": {},
     "output_type": "execute_result"
    }
   ],
   "source": [
    "80*80/100"
   ]
  },
  {
   "cell_type": "code",
   "execution_count": 56,
   "id": "ceb0ac95-1d56-47f9-88d9-8924b55519a7",
   "metadata": {},
   "outputs": [
    {
     "data": {
      "text/plain": [
       "80"
      ]
     },
     "execution_count": 56,
     "metadata": {},
     "output_type": "execute_result"
    }
   ],
   "source": [
    "15+65"
   ]
  },
  {
   "cell_type": "code",
   "execution_count": null,
   "id": "3fad7296-ec64-46d8-b30b-f4a9aa0284c1",
   "metadata": {},
   "outputs": [],
   "source": []
  }
 ],
 "metadata": {
  "kernelspec": {
   "display_name": "Python 3 (ipykernel)",
   "language": "python",
   "name": "python3"
  },
  "language_info": {
   "codemirror_mode": {
    "name": "ipython",
    "version": 3
   },
   "file_extension": ".py",
   "mimetype": "text/x-python",
   "name": "python",
   "nbconvert_exporter": "python",
   "pygments_lexer": "ipython3",
   "version": "3.10.6"
  }
 },
 "nbformat": 4,
 "nbformat_minor": 5
}
